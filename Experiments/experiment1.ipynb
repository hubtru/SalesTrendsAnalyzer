{
 "cells": [
  {
   "cell_type": "code",
   "execution_count": 16,
   "metadata": {},
   "outputs": [
    {
     "name": "stdout",
     "output_type": "stream",
     "text": [
      "The autoreload extension is already loaded. To reload it, use:\n",
      "  %reload_ext autoreload\n"
     ]
    }
   ],
   "source": [
    "%load_ext autoreload\n",
    "%autoreload 2\n",
    "\n",
    "from general.config import DatasetOptions, ProductIds\n",
    "from general.experiment import Experiment\n",
    "import tensorflow as tf"
   ]
  },
  {
   "cell_type": "code",
   "execution_count": 17,
   "metadata": {},
   "outputs": [],
   "source": [
    "dataset_options = DatasetOptions(\n",
    "    data_origin=\"./../Data/merged_cleaned_FE_imputed(v)_w.csv\",\n",
    "    drop_columns=[\n",
    "        \"WeekoftheYear_cos\",\n",
    "        \"WeekoftheYear_sin\",\n",
    "        \"DayoftheYear_cos\",\n",
    "        \"DayoftheYear_sin\",\n",
    "        \"Month_cos\",\n",
    "        \"Month_sin\",\n",
    "        \"Season_Autumn\",\n",
    "        \"Season_Spring\",\n",
    "        \"Season_Summer\",\n",
    "        \"Season_Winter\",\n",
    "    ],\n",
    "    window_width=3,\n",
    "    label_width=1,\n",
    "    shift=1,\n",
    ")"
   ]
  },
  {
   "cell_type": "code",
   "execution_count": 18,
   "metadata": {},
   "outputs": [],
   "source": [
    "class Experiment1(Experiment):\n",
    "    def compile_and_fit(self, model):\n",
    "        model.compile(\n",
    "            loss=tf.keras.losses.MeanSquaredError(),\n",
    "            optimizer=tf.keras.optimizers.Adam(),\n",
    "            metrics=[tf.keras.metrics.MeanAbsoluteError()],\n",
    "        )\n",
    "\n",
    "        # TODO: Remove\n",
    "        history = None\n",
    "        # history = model.fit(\n",
    "        #     self.data.train,\n",
    "        #     epochs=50,\n",
    "        #     validation_data=self.data.val,\n",
    "        # )\n",
    "\n",
    "        return history\n",
    "    \n",
    "    def get_train_settings(self):\n",
    "        return {\n",
    "            'Batch Size': 32,\n",
    "            'Epochs': 50,\n",
    "            'Learning Rate': 0.001,\n",
    "            'Optimizer': 'Adam',\n",
    "            \"Shuffled Batches\": \"True\",\n",
    "        }\n",
    "    \n",
    "experiment = Experiment1(\"eperiment1\", dataset_options)"
   ]
  },
  {
   "cell_type": "code",
   "execution_count": 19,
   "metadata": {},
   "outputs": [],
   "source": [
    "class Baseline(tf.keras.Model):\n",
    "    def __init__(self, label_index, forecasting_width):\n",
    "        super().__init__()\n",
    "        self.label_index = label_index\n",
    "        self.forecasting_width = forecasting_width\n",
    "\n",
    "    def call(self, inputs):\n",
    "        result = inputs[:, -self.forecasting_width :, self.label_index]\n",
    "        return result[:, :, tf.newaxis]\n",
    "    \n",
    "baseline = Baseline(\n",
    "    label_index=experiment.data.column_indices[ProductIds.BENS_LUNCHTIME.value],\n",
    "    forecasting_width=1\n",
    ")"
   ]
  },
  {
   "cell_type": "code",
   "execution_count": 20,
   "metadata": {},
   "outputs": [
    {
     "name": "stdout",
     "output_type": "stream",
     "text": [
      "Run model:  Persistence\n",
      "  ... measuring performance:\n",
      "----------------------------------\n",
      "Statistics Saved.\n",
      "Image Saved.\n",
      "Experiment Info Saved.\n"
     ]
    },
    {
     "data": {
      "image/png": "[encoded data removed]",
      "text/plain": [
       "<Figure size 640x480 with 1 Axes>"
      ]
     },
     "metadata": {},
     "output_type": "display_data"
    }
   ],
   "source": [
    "experiment.run({\n",
    "    'Persistence': baseline\n",
    "})"
   ]
  },
  {
   "cell_type": "code",
   "execution_count": null,
   "metadata": {},
   "outputs": [],
   "source": []
  }
 ],
 "metadata": {
  "kernelspec": {
   "display_name": "Melersed",
   "language": "python",
   "name": "python3"
  },
  "language_info": {
   "codemirror_mode": {
    "name": "ipython",
    "version": 3
   },
   "file_extension": ".py",
   "mimetype": "text/x-python",
   "name": "python",
   "nbconvert_exporter": "python",
   "pygments_lexer": "ipython3",
   "version": "3.9.16"
  },
  "orig_nbformat": 4
 },
 "nbformat": 4,
 "nbformat_minor": 2
}
