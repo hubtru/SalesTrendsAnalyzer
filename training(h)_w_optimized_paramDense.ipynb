{
  "cells": [
    {
      "cell_type": "code",
      "execution_count": 52,
      "metadata": {
        "id": "XiSrIbnJK3Qs"
      },
      "outputs": [],
      "source": [
        "import os\n",
        "import datetime\n",
        "import math\n",
        "\n",
        "import IPython\n",
        "import IPython.display\n",
        "import matplotlib as mpl\n",
        "import matplotlib.pyplot as plt\n",
        "import numpy as np\n",
        "import pandas as pd\n",
        "import seaborn as sns\n",
        "import tensorflow as tf\n",
        "from enum import Enum\n",
        "\n",
        "mpl.rcParams['figure.figsize'] = (25,8)\n",
        "mpl.rcParams['axes.grid'] = False"
      ]
    },
    {
      "cell_type": "markdown",
      "metadata": {
        "id": "M0m9DlIoK3Qu"
      },
      "source": [
        "### Features:\n"
      ]
    },
    {
      "cell_type": "code",
      "execution_count": 53,
      "metadata": {
        "id": "roK9SbxqK3Qv"
      },
      "outputs": [],
      "source": [
        "DO_NOT_USE_EARLY_STOPPING = True\n",
        "DROP_INDEX_LIKE_COLUMNS = True\n",
        "LABEL_WIDTH_EQ_SHIFT = True\n",
        "WINDOW_WIDTH = 3\n",
        "LABEL_WIDTH = 1\n",
        "SHIFT = 1"
      ]
    },
    {
      "cell_type": "code",
      "execution_count": 54,
      "metadata": {
        "id": "Qrlu4mQoK3Qv"
      },
      "outputs": [],
      "source": [
        "USED_STORE_ID = 4051653300272\n",
        "FEATURE_SIZE = 87\n",
        "DATA_ORIGIN = \"./merged_cleaned_FE_imputed(v)_w.csv\"\n",
        "DROPPED_COLUMNS = [\n",
        "    \"WeekoftheYear_cos\",\n",
        "    \"WeekoftheYear_sin\",\n",
        "    \"DayoftheYear_cos\",\n",
        "    \"DayoftheYear_sin\",\n",
        "    \"Month_cos\",\n",
        "    \"Month_sin\",\n",
        "    \"Season_Autumn\",\n",
        "    \"Season_Spring\",\n",
        "    \"Season_Summer\",\n",
        "    \"Season_Winter\",\n",
        "]\n",
        "\n",
        "class PRODUCT_IDs(Enum):\n",
        "    BensLunchtime = \"4260705920294\""
      ]
    },
    {
      "cell_type": "code",
      "execution_count": 55,
      "metadata": {
        "id": "f6Wm9En4K3Qw"
      },
      "outputs": [],
      "source": [
        "def load_data():\n",
        "    df = pd.read_csv(DATA_ORIGIN, parse_dates=[\"Date\"])\n",
        "    not_indexed = [\"ProductID\", \"Quantity\", \"Price_imputed\", \"Year\"]\n",
        "    df_pivot = df.pivot_table(\n",
        "        index=[col for col in list(df.columns) if col not in not_indexed],\n",
        "        columns=[\"ProductID\"],\n",
        "        values=\"Quantity\",\n",
        "    )\n",
        "    df_pivot[\"total_quantity_day\"] = df_pivot.sum(axis=1)\n",
        "\n",
        "    df_pivot = df_pivot.loc[df_pivot.index.get_level_values(\"StoreID\") == USED_STORE_ID]\n",
        "    df_pivot = df_pivot.droplevel(\"StoreID\")\n",
        "    df_pivot = df_pivot.reset_index()\n",
        "    df_pivot.columns = df_pivot.columns.astype(str)\n",
        "\n",
        "    return df_pivot\n",
        "\n",
        "\n",
        "def add_fourier_features(\n",
        "    data,\n",
        "    features_to_period={\n",
        "        \"Month\": 12.0,\n",
        "        \"DayoftheMonth\": 31.0,\n",
        "        \"WeekoftheMonth\": 4.0,\n",
        "        \"DayoftheWeek\": 7.0,\n",
        "        \"WeekoftheYear\": 52.0,\n",
        "        \"DayoftheYear\": 365.0,\n",
        "    },\n",
        "):\n",
        "    df = data.copy()\n",
        "\n",
        "    for column, period in features_to_period.items():\n",
        "        df[f\"{column}_cos\"] = np.cos(2 * np.pi * df[\"Month\"] / period)\n",
        "        df[f\"{column}_sin\"] = np.sin(2 * np.pi * df[\"Month\"] / period)\n",
        "\n",
        "    return df.drop(\n",
        "        features_to_period.keys(),\n",
        "        axis=1,\n",
        "    )\n",
        "\n",
        "\n",
        "def get_dataset():\n",
        "    df_pivot = load_data()\n",
        "    date_time = pd.to_datetime(df_pivot.pop(\"Date\"), format=\"%Y-%m-%d\")\n",
        "    data = add_fourier_features(df_pivot)\n",
        "    return data, date_time\n",
        "\n",
        "\n",
        "def split_data(data, train_frac=0.7, valid_frac=0.2, test_frac=0.1):\n",
        "    if not math.isclose(train_frac + valid_frac + test_frac, 1):\n",
        "        raise Error(\"Ivalid split sizes\")\n",
        "\n",
        "    n = len(data)\n",
        "    train_df = data[0 : int(n * train_frac)]\n",
        "    val_df = data[int(n * train_frac) : int(n * (train_frac + valid_frac))]\n",
        "    test_df = data[int(n * (train_frac + valid_frac)) :]\n",
        "\n",
        "    return train_df, val_df, test_df\n",
        "\n",
        "\n",
        "def normalize(data, norm_values_to_use=None):\n",
        "    norm_values_used = norm_values_to_use\n",
        "    if norm_values_to_use is None:\n",
        "        std = data.std()\n",
        "        std = std.where(lambda x: np.invert(np.isclose(x, 0)), other=0.3)\n",
        "        norm_values_used = {\n",
        "            \"std\": std,\n",
        "            \"mean\": data.mean(),\n",
        "        }\n",
        "\n",
        "    return (data - norm_values_used[\"mean\"]) / (\n",
        "        norm_values_used[\"std\"]\n",
        "    ), norm_values_used"
      ]
    },
    {
      "cell_type": "code",
      "execution_count": 56,
      "metadata": {
        "id": "l0_k3_xVK3Qw"
      },
      "outputs": [],
      "source": [
        "data, time = get_dataset()\n",
        "if DROP_INDEX_LIKE_COLUMNS:\n",
        "    data = data.drop(\n",
        "        labels=DROPPED_COLUMNS,\n",
        "        axis=\"columns\",\n",
        "    )\n",
        "train_df, val_df, test_df = split_data(data)\n",
        "\n",
        "train_df, normalization_params = normalize(train_df)\n",
        "val_df, _ = normalize(val_df, normalization_params)\n",
        "test_df, _ = normalize(test_df, normalization_params)\n",
        "assert FEATURE_SIZE == len(train_df.columns)"
      ]
    },
    {
      "cell_type": "code",
      "execution_count": 57,
      "metadata": {
        "id": "smOq7gVTK3Qx"
      },
      "outputs": [],
      "source": [
        "# Code reference: https://github.com/anencore94/SlidingWindowGenerator/blob/master/slidingwindow_generator/slidingwindow_generator.py\n",
        "class WindowGenerator():\n",
        "    def __init__(self, input_width, label_width, shift,\n",
        "                train_df, val_df, test_df,\n",
        "                label_columns=None):\n",
        "        '''\n",
        "        This drawing indicates the meaning of the attributes:\n",
        "\n",
        "        ------------------------Time Dimension ----------------->\n",
        "                                               |\n",
        "        <----------total window size---------->|\n",
        "        <------input width------><---shift---->|\n",
        "                    <------label width-------->|\n",
        "                                               |\n",
        "\n",
        "        '''\n",
        "        # Store the raw data.\n",
        "        self.train_df = train_df\n",
        "        self.val_df = val_df\n",
        "        self.test_df = test_df\n",
        "\n",
        "        # Work out the label column indices.\n",
        "        self.label_columns = label_columns\n",
        "        if label_columns is not None:\n",
        "            self.label_columns_indices = {name: i for i, name in\n",
        "                                        enumerate(label_columns)}\n",
        "        self.column_indices = {name: i for i, name in\n",
        "                                enumerate(train_df.columns)}\n",
        "\n",
        "        # Work out the window parameters.\n",
        "        self.input_width = input_width\n",
        "        self.label_width = label_width\n",
        "        self.shift = shift\n",
        "\n",
        "        self.total_window_size = input_width + shift\n",
        "\n",
        "        self.input_slice = slice(0, input_width)\n",
        "        self.input_indices = np.arange(self.total_window_size)[self.input_slice]\n",
        "\n",
        "        label_start = self.total_window_size - self.label_width\n",
        "        self.labels_slice = slice(label_start, None)\n",
        "        self.label_indices = np.arange(self.total_window_size)[self.labels_slice]\n",
        "\n",
        "    def __repr__(self):\n",
        "        return '\\n'.join([\n",
        "            f'Total window size: {self.total_window_size}',\n",
        "            f'Input indices: {self.input_indices}',\n",
        "            f'Label indices: {self.label_indices}',\n",
        "            f'Label column name(s): {self.label_columns}'])\n",
        "\n",
        "    def split_window(self, features):\n",
        "        '''\n",
        "        splits the incoming data: (batch_size, total_window_size, all_features)\n",
        "        into:\n",
        "        inputs: (batch_size, input_width, all_features)\n",
        "        labels: (batch_size, label_width, #label_columns)\n",
        "\n",
        "        while the timesteps are according to the parameter meaning (see description of class)\n",
        "        '''\n",
        "        inputs = features[:, self.input_slice, :]\n",
        "        labels = features[:, self.labels_slice, :]\n",
        "        if self.label_columns is not None:\n",
        "            labels = tf.stack(\n",
        "                [labels[:, :, self.column_indices[name]] for name in self.label_columns],\n",
        "                axis=-1)\n",
        "\n",
        "        # Slicing doesn't preserve static shape information, so set the shapes\n",
        "        # manually. This way the `tf.data.Datasets` are easier to inspect.\n",
        "        inputs.set_shape([None, self.input_width, None])\n",
        "        labels.set_shape([None, self.label_width, None])\n",
        "\n",
        "        return inputs, labels\n",
        "\n",
        "    def plot(self, model=None, plot_col=PRODUCT_IDs.BensLunchtime.value, max_subplots=3, used_normalization=None):\n",
        "        def denormalize(data):\n",
        "            if used_normalization is None:\n",
        "                return data\n",
        "            return data * used_normalization['std'][plot_col] + used_normalization['mean'][plot_col]\n",
        "\n",
        "        inputs, labels = self.example\n",
        "        plt.figure(figsize=(12, 8))\n",
        "        plot_col_index = self.column_indices[plot_col]\n",
        "        max_n = min(max_subplots, len(inputs))\n",
        "        for n in range(max_n):\n",
        "            plt.subplot(max_n, 1, n+1)\n",
        "            plt.ylabel(f'{plot_col} [normed]')\n",
        "            plt.plot(self.input_indices, denormalize(inputs[n, :, plot_col_index]),\n",
        "                    label='Inputs', marker='.', zorder=-10)\n",
        "\n",
        "            if self.label_columns:\n",
        "                label_col_index = self.label_columns_indices.get(plot_col, None)\n",
        "            else:\n",
        "                label_col_index = plot_col_index\n",
        "\n",
        "            if label_col_index is None:\n",
        "                continue\n",
        "\n",
        "            plt.scatter(self.label_indices, denormalize(labels[n, :, label_col_index]),\n",
        "                        edgecolors='k', label='Labels', c='#2ca02c', s=64)\n",
        "\n",
        "            if model is not None:\n",
        "                predictions = model(inputs)\n",
        "                plt.scatter(self.label_indices, denormalize(predictions[n, :, label_col_index]),\n",
        "                        marker='X', edgecolors='k', label='Predictions',\n",
        "                        c='#ff7f0e', s=64)\n",
        "\n",
        "            if n == 0:\n",
        "                plt.legend()\n",
        "\n",
        "            plt.xlabel('Time [day]')\n",
        "\n",
        "    def make_dataset(self, data):\n",
        "        data = np.array(data, dtype=np.float32)\n",
        "        ds = tf.keras.utils.timeseries_dataset_from_array(\n",
        "            data=data,\n",
        "            targets=None,\n",
        "            sequence_length=self.total_window_size,\n",
        "            sequence_stride=1,\n",
        "            shuffle=True,\n",
        "            batch_size=32,)\n",
        "\n",
        "        ds = ds.map(self.split_window)\n",
        "\n",
        "        return ds\n",
        "\n",
        "    @property\n",
        "    def train(self):\n",
        "        return self.make_dataset(self.train_df)\n",
        "\n",
        "    @property\n",
        "    def val(self):\n",
        "        return self.make_dataset(self.val_df)\n",
        "\n",
        "    @property\n",
        "    def test(self):\n",
        "        return self.make_dataset(self.test_df)\n",
        "\n",
        "    @property\n",
        "    def example(self):\n",
        "        \"\"\"Get and cache an example batch of `inputs, labels` for plotting.\"\"\"\n",
        "        result = getattr(self, '_example', None)\n",
        "        if result is None:\n",
        "            # No example batch was found, so get one from the `.train` dataset\n",
        "            result = next(iter(self.train))\n",
        "            # And cache it for next time\n",
        "            self._example = result\n",
        "        return result"
      ]
    },
    {
      "cell_type": "markdown",
      "metadata": {
        "id": "o7LhpajDK3Qy"
      },
      "source": [
        "-----\n",
        "# General Settings"
      ]
    },
    {
      "cell_type": "code",
      "execution_count": 58,
      "metadata": {
        "id": "ToZAaq2BK3Qy"
      },
      "outputs": [],
      "source": [
        "## For tracking Model Performances:\n",
        "val_performance = {}\n",
        "performance = {}\n",
        "train_performance = {}\n",
        "test_performance = {}\n"
      ]
    },
    {
      "cell_type": "code",
      "execution_count": 59,
      "metadata": {
        "id": "TXe8fZw5K3Qy"
      },
      "outputs": [],
      "source": [
        "def get_loss():\n",
        "    ## !!! change function save_performance when changing here\n",
        "    return tf.keras.losses.MeanSquaredError()\n",
        "\n",
        "\n",
        "def get_metrics():\n",
        "    ## !!! change function save_performance when changing here\n",
        "    return [tf.keras.metrics.MeanAbsoluteError()]\n",
        "\n",
        "\n",
        "def save_performance(where):\n",
        "    df = pd.DataFrame(columns=[\"Instances_Train\", \"Loss_Train\", \"MAE_Train\", \"Latency_Train\", \"Trainable_Parameters\", \"Non_Trainable_Parameters\",\n",
        "                               \"Instances_Val\", \"Loss_Val\", \"MAE_Val\", \"Latency_Val\",\n",
        "                               \"Instances_Test\", \"Loss_Test\", \"MAE_Test\", \"Latency_Test\"])\n",
        "\n",
        "    for model_name in train_performance.keys():\n",
        "        df.loc[model_name] = train_performance[model_name] + val_performance[model_name] + test_performance[model_name]\n",
        "\n",
        "    df.to_csv(where)\n",
        "\n",
        "def get_model_size(model):\n",
        "    import os\n",
        "    import tempfile\n",
        "\n",
        "    _, keras_file = tempfile.mkstemp('.h5')\n",
        "    tf.keras.models.save_model(model, keras_file, include_optimizer=False)\n",
        "    print(f\"Model size: {os.path.getsize(keras_file) / 1024 / 1024} MB\")\n",
        "\n",
        "def register_performance(name, model, window):\n",
        "    import time\n",
        "    n_train = window.train_df.shape[0]\n",
        "    n_val = window.val_df.shape[0]\n",
        "    n_test = window.test_df.shape[0]\n",
        "\n",
        "    start_time = time.time()\n",
        "    train_performance[name] = model.evaluate(window.train, verbose=0)\n",
        "    train_time = time.time() - start_time\n",
        "\n",
        "    start_time = time.time()\n",
        "    val_performance[name] = model.evaluate(window.val, verbose=0)\n",
        "    val_time = time.time() - start_time\n",
        "\n",
        "    start_time = time.time()\n",
        "    test_performance[name] = model.evaluate(window.test, verbose=0)\n",
        "    test_time = time.time() - start_time\n",
        "\n",
        "    performance = {\n",
        "        \"n_train\": n_train,\n",
        "        \"n_val\": n_val,\n",
        "        \"n_test\": n_test,\n",
        "        \"train_loss\": train_performance[name][0],\n",
        "        \"train_mae\": train_performance[name][1],\n",
        "        \"val_loss\": val_performance[name][0],\n",
        "        \"val_mae\": val_performance[name][1],\n",
        "        \"test_loss\": test_performance[name][0],\n",
        "        \"test_mae\": test_performance[name][1],\n",
        "        \"train_latency\": train_time / n_train,\n",
        "        \"val_latency\": val_time / n_val,\n",
        "        \"test_latency\": test_time / n_test,\n",
        "        \"network_size_MB\": get_model_size(model),\n",
        "        \"n_trainable_params\": np.sum([tf.size(w_matrix).numpy() for w_matrix in model.trainable_variables]),\n",
        "        \"n_non_trainable_params\": np.sum([tf.size(w_matrix).numpy() for w_matrix in model.non_trainable_variables])\n",
        "    }\n",
        "    return performance"
      ]
    },
    {
      "cell_type": "markdown",
      "metadata": {
        "id": "jjIcxyP2K3Qz"
      },
      "source": [
        "---"
      ]
    },
    {
      "cell_type": "markdown",
      "metadata": {
        "id": "9YeXfTt1K3Qz"
      },
      "source": [
        "## Single Step Models"
      ]
    },
    {
      "cell_type": "code",
      "execution_count": 60,
      "metadata": {
        "colab": {
          "base_uri": "https://localhost:8080/"
        },
        "id": "URzer7bHK3Qz",
        "outputId": "262126c2-e14c-4ac4-f914-53ec86cc1bc9"
      },
      "outputs": [
        {
          "data": {
            "text/plain": [
              "Total window size: 4\n",
              "Input indices: [0 1 2]\n",
              "Label indices: [3]\n",
              "Label column name(s): ['4260705920294']"
            ]
          },
          "execution_count": 60,
          "metadata": {},
          "output_type": "execute_result"
        }
      ],
      "source": [
        "single_step_window = WindowGenerator(\n",
        "    input_width=WINDOW_WIDTH,\n",
        "    label_width=LABEL_WIDTH,\n",
        "    shift=SHIFT,\n",
        "    label_columns=[PRODUCT_IDs.BensLunchtime.value],\n",
        "    train_df=train_df,\n",
        "    val_df=val_df,\n",
        "    test_df=test_df,\n",
        ")\n",
        "single_step_window"
      ]
    },
    {
      "cell_type": "code",
      "execution_count": 61,
      "metadata": {
        "id": "e0NT_SvhK3Q1"
      },
      "outputs": [],
      "source": [
        "MAX_EPOCHS = 50\n",
        "\n",
        "\n",
        "def compile_and_fit(model, window, patience=2):\n",
        "    if not DO_NOT_USE_EARLY_STOPPING:\n",
        "        early_stopping = tf.keras.callbacks.EarlyStopping(\n",
        "            monitor=\"val_loss\", patience=patience, mode=\"min\"\n",
        "        )\n",
        "\n",
        "    model.compile(\n",
        "        loss=get_loss(), optimizer=tf.keras.optimizers.Adam(), metrics=get_metrics()\n",
        "    )\n",
        "\n",
        "    callbacks = [early_stopping if not DO_NOT_USE_EARLY_STOPPING else None]\n",
        "\n",
        "    history = model.fit(\n",
        "        window.train,\n",
        "        epochs=MAX_EPOCHS,\n",
        "        validation_data=window.val,\n",
        "        callbacks=[func for func in callbacks if func is not None],\n",
        "    )\n",
        "    return history"
      ]
    },
    {
      "cell_type": "markdown",
      "metadata": {
        "id": "vlJzGIe9K3Q2"
      },
      "source": [
        "## Dense Model"
      ]
    },
    {
      "cell_type": "code",
      "execution_count": 62,
      "metadata": {
        "colab": {
          "base_uri": "https://localhost:8080/"
        },
        "id": "R4fXYtFyK3Q2",
        "outputId": "4612ec89-dbea-4287-946b-1a6f48be76bd"
      },
      "outputs": [
        {
          "name": "stdout",
          "output_type": "stream",
          "text": [
            "Model: \"sequential_7\"\n",
            "_________________________________________________________________\n",
            " Layer (type)                Output Shape              Param #   \n",
            "=================================================================\n",
            " flatten_7 (Flatten)         (None, 261)               0         \n",
            "                                                                 \n",
            " dense_19 (Dense)            (None, 64)                16768     \n",
            "                                                                 \n",
            " dense_20 (Dense)            (None, 64)                4160      \n",
            "                                                                 \n",
            " dense_21 (Dense)            (None, 1)                 65        \n",
            "                                                                 \n",
            " reshape_7 (Reshape)         (None, 1, 1)              0         \n",
            "                                                                 \n",
            "=================================================================\n",
            "Total params: 20,993\n",
            "Trainable params: 20,993\n",
            "Non-trainable params: 0\n",
            "_________________________________________________________________\n",
            "None\n",
            "Epoch 1/50\n",
            "6/6 [==============================] - 1s 50ms/step - loss: 3.5373 - mean_absolute_error: 1.4559 - val_loss: 4.6932 - val_mean_absolute_error: 1.6972\n",
            "Epoch 2/50\n",
            "6/6 [==============================] - 0s 20ms/step - loss: 1.2615 - mean_absolute_error: 0.8892 - val_loss: 1.6119 - val_mean_absolute_error: 1.0664\n",
            "Epoch 3/50\n",
            "6/6 [==============================] - 0s 14ms/step - loss: 1.0866 - mean_absolute_error: 0.8735 - val_loss: 2.1535 - val_mean_absolute_error: 1.1938\n",
            "Epoch 4/50\n",
            "6/6 [==============================] - 0s 22ms/step - loss: 0.8530 - mean_absolute_error: 0.7658 - val_loss: 1.5081 - val_mean_absolute_error: 1.0098\n",
            "Epoch 5/50\n",
            "6/6 [==============================] - 0s 25ms/step - loss: 0.5438 - mean_absolute_error: 0.5959 - val_loss: 1.3004 - val_mean_absolute_error: 0.9497\n",
            "Epoch 6/50\n",
            "6/6 [==============================] - 0s 20ms/step - loss: 0.4274 - mean_absolute_error: 0.5206 - val_loss: 1.4477 - val_mean_absolute_error: 0.9864\n",
            "Epoch 7/50\n",
            "6/6 [==============================] - 0s 24ms/step - loss: 0.3547 - mean_absolute_error: 0.4677 - val_loss: 1.4601 - val_mean_absolute_error: 0.9828\n",
            "Epoch 8/50\n",
            "6/6 [==============================] - 0s 24ms/step - loss: 0.2726 - mean_absolute_error: 0.4070 - val_loss: 1.3688 - val_mean_absolute_error: 0.9552\n",
            "Epoch 9/50\n",
            "6/6 [==============================] - 0s 24ms/step - loss: 0.2240 - mean_absolute_error: 0.3722 - val_loss: 1.2880 - val_mean_absolute_error: 0.9267\n",
            "Epoch 10/50\n",
            "6/6 [==============================] - 0s 24ms/step - loss: 0.1746 - mean_absolute_error: 0.3242 - val_loss: 1.2887 - val_mean_absolute_error: 0.9266\n",
            "Epoch 11/50\n",
            "6/6 [==============================] - 0s 19ms/step - loss: 0.1411 - mean_absolute_error: 0.2816 - val_loss: 1.3273 - val_mean_absolute_error: 0.9344\n",
            "Epoch 12/50\n",
            "6/6 [==============================] - 0s 22ms/step - loss: 0.1153 - mean_absolute_error: 0.2517 - val_loss: 1.3621 - val_mean_absolute_error: 0.9406\n",
            "Epoch 13/50\n",
            "6/6 [==============================] - 0s 21ms/step - loss: 0.0902 - mean_absolute_error: 0.2205 - val_loss: 1.3931 - val_mean_absolute_error: 0.9456\n",
            "Epoch 14/50\n",
            "6/6 [==============================] - 0s 21ms/step - loss: 0.0735 - mean_absolute_error: 0.1968 - val_loss: 1.4316 - val_mean_absolute_error: 0.9526\n",
            "Epoch 15/50\n",
            "6/6 [==============================] - 0s 14ms/step - loss: 0.0599 - mean_absolute_error: 0.1754 - val_loss: 1.4188 - val_mean_absolute_error: 0.9519\n",
            "Epoch 16/50\n",
            "6/6 [==============================] - 0s 20ms/step - loss: 0.0477 - mean_absolute_error: 0.1551 - val_loss: 1.4264 - val_mean_absolute_error: 0.9552\n",
            "Epoch 17/50\n",
            "6/6 [==============================] - 0s 14ms/step - loss: 0.0386 - mean_absolute_error: 0.1362 - val_loss: 1.4482 - val_mean_absolute_error: 0.9591\n",
            "Epoch 18/50\n",
            "6/6 [==============================] - 0s 14ms/step - loss: 0.0303 - mean_absolute_error: 0.1190 - val_loss: 1.4613 - val_mean_absolute_error: 0.9616\n",
            "Epoch 19/50\n",
            "6/6 [==============================] - 0s 21ms/step - loss: 0.0246 - mean_absolute_error: 0.1058 - val_loss: 1.4672 - val_mean_absolute_error: 0.9633\n",
            "Epoch 20/50\n",
            "6/6 [==============================] - 0s 15ms/step - loss: 0.0195 - mean_absolute_error: 0.0914 - val_loss: 1.4579 - val_mean_absolute_error: 0.9637\n",
            "Epoch 21/50\n",
            "6/6 [==============================] - 0s 15ms/step - loss: 0.0158 - mean_absolute_error: 0.0796 - val_loss: 1.4584 - val_mean_absolute_error: 0.9651\n",
            "Epoch 22/50\n",
            "6/6 [==============================] - 0s 13ms/step - loss: 0.0127 - mean_absolute_error: 0.0695 - val_loss: 1.4679 - val_mean_absolute_error: 0.9676\n",
            "Epoch 23/50\n",
            "6/6 [==============================] - 0s 14ms/step - loss: 0.0102 - mean_absolute_error: 0.0603 - val_loss: 1.4849 - val_mean_absolute_error: 0.9707\n",
            "Epoch 24/50\n",
            "6/6 [==============================] - 0s 21ms/step - loss: 0.0084 - mean_absolute_error: 0.0529 - val_loss: 1.4916 - val_mean_absolute_error: 0.9722\n",
            "Epoch 25/50\n",
            "6/6 [==============================] - 0s 15ms/step - loss: 0.0069 - mean_absolute_error: 0.0454 - val_loss: 1.4805 - val_mean_absolute_error: 0.9706\n",
            "Epoch 26/50\n",
            "6/6 [==============================] - 0s 21ms/step - loss: 0.0055 - mean_absolute_error: 0.0399 - val_loss: 1.4766 - val_mean_absolute_error: 0.9699\n",
            "Epoch 27/50\n",
            "6/6 [==============================] - 0s 14ms/step - loss: 0.0047 - mean_absolute_error: 0.0348 - val_loss: 1.4875 - val_mean_absolute_error: 0.9723\n",
            "Epoch 28/50\n",
            "6/6 [==============================] - 0s 21ms/step - loss: 0.0038 - mean_absolute_error: 0.0305 - val_loss: 1.4895 - val_mean_absolute_error: 0.9728\n",
            "Epoch 29/50\n",
            "6/6 [==============================] - 0s 14ms/step - loss: 0.0032 - mean_absolute_error: 0.0273 - val_loss: 1.4838 - val_mean_absolute_error: 0.9717\n",
            "Epoch 30/50\n",
            "6/6 [==============================] - 0s 21ms/step - loss: 0.0027 - mean_absolute_error: 0.0237 - val_loss: 1.4858 - val_mean_absolute_error: 0.9718\n",
            "Epoch 31/50\n",
            "6/6 [==============================] - 0s 21ms/step - loss: 0.0023 - mean_absolute_error: 0.0217 - val_loss: 1.4920 - val_mean_absolute_error: 0.9725\n",
            "Epoch 32/50\n",
            "6/6 [==============================] - 0s 21ms/step - loss: 0.0019 - mean_absolute_error: 0.0188 - val_loss: 1.4893 - val_mean_absolute_error: 0.9718\n",
            "Epoch 33/50\n",
            "6/6 [==============================] - 0s 20ms/step - loss: 0.0016 - mean_absolute_error: 0.0168 - val_loss: 1.4857 - val_mean_absolute_error: 0.9709\n",
            "Epoch 34/50\n",
            "6/6 [==============================] - 0s 15ms/step - loss: 0.0014 - mean_absolute_error: 0.0145 - val_loss: 1.4868 - val_mean_absolute_error: 0.9708\n",
            "Epoch 35/50\n",
            "6/6 [==============================] - 0s 15ms/step - loss: 0.0011 - mean_absolute_error: 0.0125 - val_loss: 1.4884 - val_mean_absolute_error: 0.9709\n",
            "Epoch 36/50\n",
            "6/6 [==============================] - 0s 21ms/step - loss: 9.5069e-04 - mean_absolute_error: 0.0113 - val_loss: 1.4860 - val_mean_absolute_error: 0.9702\n",
            "Epoch 37/50\n",
            "6/6 [==============================] - 0s 20ms/step - loss: 8.2412e-04 - mean_absolute_error: 0.0102 - val_loss: 1.4862 - val_mean_absolute_error: 0.9699\n",
            "Epoch 38/50\n",
            "6/6 [==============================] - 0s 21ms/step - loss: 6.9463e-04 - mean_absolute_error: 0.0090 - val_loss: 1.4881 - val_mean_absolute_error: 0.9702\n",
            "Epoch 39/50\n",
            "6/6 [==============================] - 0s 14ms/step - loss: 5.9532e-04 - mean_absolute_error: 0.0080 - val_loss: 1.4887 - val_mean_absolute_error: 0.9701\n",
            "Epoch 40/50\n",
            "6/6 [==============================] - 0s 23ms/step - loss: 5.2673e-04 - mean_absolute_error: 0.0074 - val_loss: 1.4874 - val_mean_absolute_error: 0.9696\n",
            "Epoch 41/50\n",
            "6/6 [==============================] - 0s 13ms/step - loss: 4.3902e-04 - mean_absolute_error: 0.0069 - val_loss: 1.4883 - val_mean_absolute_error: 0.9695\n",
            "Epoch 42/50\n",
            "6/6 [==============================] - 0s 22ms/step - loss: 3.7487e-04 - mean_absolute_error: 0.0062 - val_loss: 1.4890 - val_mean_absolute_error: 0.9693\n",
            "Epoch 43/50\n",
            "6/6 [==============================] - 0s 23ms/step - loss: 3.3027e-04 - mean_absolute_error: 0.0056 - val_loss: 1.4887 - val_mean_absolute_error: 0.9691\n",
            "Epoch 44/50\n",
            "6/6 [==============================] - 0s 15ms/step - loss: 2.6824e-04 - mean_absolute_error: 0.0051 - val_loss: 1.4870 - val_mean_absolute_error: 0.9686\n",
            "Epoch 45/50\n",
            "6/6 [==============================] - 0s 12ms/step - loss: 2.3084e-04 - mean_absolute_error: 0.0047 - val_loss: 1.4882 - val_mean_absolute_error: 0.9686\n",
            "Epoch 46/50\n",
            "6/6 [==============================] - 0s 15ms/step - loss: 1.9862e-04 - mean_absolute_error: 0.0043 - val_loss: 1.4897 - val_mean_absolute_error: 0.9688\n",
            "Epoch 47/50\n",
            "6/6 [==============================] - 0s 21ms/step - loss: 1.6085e-04 - mean_absolute_error: 0.0039 - val_loss: 1.4892 - val_mean_absolute_error: 0.9686\n",
            "Epoch 48/50\n",
            "6/6 [==============================] - 0s 21ms/step - loss: 1.4943e-04 - mean_absolute_error: 0.0036 - val_loss: 1.4879 - val_mean_absolute_error: 0.9682\n",
            "Epoch 49/50\n",
            "6/6 [==============================] - 0s 13ms/step - loss: 1.1962e-04 - mean_absolute_error: 0.0034 - val_loss: 1.4886 - val_mean_absolute_error: 0.9683\n",
            "Epoch 50/50\n",
            "6/6 [==============================] - 0s 15ms/step - loss: 9.7695e-05 - mean_absolute_error: 0.0029 - val_loss: 1.4896 - val_mean_absolute_error: 0.9683\n",
            "Model size: 0.0982513427734375 MB\n"
          ]
        },
        {
          "data": {
            "text/plain": [
              "{'n_train': 190,\n",
              " 'n_val': 54,\n",
              " 'n_test': 28,\n",
              " 'train_loss': 8.68667266331613e-05,\n",
              " 'train_mae': 0.002683955477550626,\n",
              " 'val_loss': 1.4895983934402466,\n",
              " 'val_mae': 0.9683351516723633,\n",
              " 'test_loss': 2.5901131629943848,\n",
              " 'test_mae': 1.3686670064926147,\n",
              " 'train_latency': 0.0007835890117444491,\n",
              " 'val_latency': 0.0029895835452609593,\n",
              " 'test_latency': 0.004357576370239258,\n",
              " 'network_size_MB': None,\n",
              " 'n_trainable_params': 20993,\n",
              " 'n_non_trainable_params': 0.0}"
            ]
          },
          "execution_count": 62,
          "metadata": {},
          "output_type": "execute_result"
        }
      ],
      "source": [
        "dense = tf.keras.Sequential([\n",
        "    tf.keras.layers.Flatten(input_shape=(WINDOW_WIDTH, FEATURE_SIZE)),\n",
        "    tf.keras.layers.Dense(units=64, activation='relu'),\n",
        "    tf.keras.layers.Dense(units=64, activation='relu'),\n",
        "    tf.keras.layers.Dense(units=LABEL_WIDTH),\n",
        "    tf.keras.layers.Reshape(target_shape=(LABEL_WIDTH, 1))\n",
        "])\n",
        "print(dense.summary())\n",
        "\n",
        "history = compile_and_fit(dense, single_step_window)\n",
        "\n",
        "register_performance('Dense', dense, single_step_window)"
      ]
    },
    {
      "cell_type": "code",
      "execution_count": 63,
      "metadata": {
        "colab": {
          "base_uri": "https://localhost:8080/"
        },
        "id": "7Da1xem_O_BG",
        "outputId": "d1aa8aa0-14a7-48da-dc46-e7c939ea0290"
      },
      "outputs": [
        {
          "name": "stdout",
          "output_type": "stream",
          "text": [
            "Model size: 0.0982513427734375 MB\n"
          ]
        }
      ],
      "source": [
        "performance_metrics = register_performance('Dense', dense, single_step_window)"
      ]
    },
    {
      "cell_type": "code",
      "execution_count": 64,
      "metadata": {
        "colab": {
          "base_uri": "https://localhost:8080/",
          "height": 696
        },
        "id": "SthhI2XrK3Q2",
        "outputId": "1b8abfba-e933-4424-b370-ad57f5e05a7b"
      },
      "outputs": [
        {
          "data": {
            "image/png": "[encoded data removed]",
            "text/plain": [
              "<Figure size 1200x800 with 3 Axes>"
            ]
          },
          "metadata": {},
          "output_type": "display_data"
        }
      ],
      "source": [
        "single_step_window.plot(dense, used_normalization=normalization_params)"
      ]
    }
  ],
  "metadata": {
    "colab": {
      "provenance": []
    },
    "kernelspec": {
      "display_name": "Melersed",
      "language": "python",
      "name": "python3"
    },
    "language_info": {
      "codemirror_mode": {
        "name": "ipython",
        "version": 3
      },
      "file_extension": ".py",
      "mimetype": "text/x-python",
      "name": "python",
      "nbconvert_exporter": "python",
      "pygments_lexer": "ipython3",
      "version": "3.9.16"
    },
    "orig_nbformat": 4
  },
  "nbformat": 4,
  "nbformat_minor": 0
}
